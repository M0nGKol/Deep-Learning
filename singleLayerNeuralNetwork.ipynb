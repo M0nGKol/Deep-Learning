{
 "cells": [
  {
   "cell_type": "code",
   "id": "initial_id",
   "metadata": {
    "collapsed": true,
    "ExecuteTime": {
     "end_time": "2025-08-23T02:41:36.394303Z",
     "start_time": "2025-08-23T02:41:36.388481Z"
    }
   },
   "source": [
    "#OR Logic\n",
    "import numpy as np\n",
    "\n",
    "# Step activation function\n",
    "def step_function(x):\n",
    "    return np.where(x >= 0, 1, 0)\n",
    "\n",
    "# Single Layer Perceptron class\n",
    "class SingleLayerPerceptron:\n",
    "    def __init__(self, input_size, learning_rate=0.1):\n",
    "        self.weights = np.zeros(input_size)\n",
    "        self.bias = 0\n",
    "        self.learning_rate = learning_rate\n",
    "\n",
    "    def predict(self, x):\n",
    "        linear_output = np.dot(x, self.weights) + self.bias\n",
    "        return step_function(linear_output)\n",
    "\n",
    "    def train(self, X, y, epochs=10):\n",
    "        for _ in range(epochs):\n",
    "            for i in range(len(X)):\n",
    "                prediction = self.predict(X[i])\n",
    "                error = y[i] - prediction\n",
    "                # Weight update rule\n",
    "                self.weights += self.learning_rate * error * X[i]\n",
    "                self.bias += self.learning_rate * error\n",
    "\n",
    "X = np.array([[0,0],[0,1],[1,0],[1,1]])\n",
    "y = np.array([0,1,1,1])\n",
    "\n",
    "perceptron = SingleLayerPerceptron(input_size=2)\n",
    "perceptron.train(X, y, epochs=10)\n",
    "\n",
    "print(\"Trained weights:\", perceptron.weights)\n",
    "print(\"Trained bias:\", perceptron.bias)\n",
    "\n",
    "# Testing\n",
    "for inputs in X:\n",
    "    print(f\"Input: {inputs}, Output: {perceptron.predict(inputs)}\")\n",
    "\n"
   ],
   "outputs": [
    {
     "name": "stdout",
     "output_type": "stream",
     "text": [
      "Trained weights: [0.1 0.1]\n",
      "Trained bias: -0.1\n",
      "Input: [0 0], Output: 0\n",
      "Input: [0 1], Output: 1\n",
      "Input: [1 0], Output: 1\n",
      "Input: [1 1], Output: 1\n"
     ]
    }
   ],
   "execution_count": 2
  },
  {
   "metadata": {
    "ExecuteTime": {
     "end_time": "2025-08-23T02:53:12.499014Z",
     "start_time": "2025-08-23T02:53:12.493084Z"
    }
   },
   "cell_type": "code",
   "source": [
    "#AND Logic\n",
    "import numpy as np\n",
    "\n",
    "# Step activation function\n",
    "def step_function(x):\n",
    "    return np.where(x >= 0, 1, 0)\n",
    "\n",
    "# Single Layer Perceptron class\n",
    "class SingleLayerPerceptron:\n",
    "    def __init__(self, input_size, learning_rate=0.1):\n",
    "        self.weights = np.zeros(input_size)\n",
    "        self.bias = 0\n",
    "        self.learning_rate = learning_rate\n",
    "\n",
    "    def predict(self, x):\n",
    "        linear_output = np.dot(x, self.weights) + self.bias\n",
    "        return step_function(linear_output)\n",
    "\n",
    "    def train(self, X, y, epochs=10):\n",
    "        for _ in range(epochs):\n",
    "            for i in range(len(X)):\n",
    "                prediction = self.predict(X[i])\n",
    "                error = y[i] - prediction\n",
    "                # Weight update rule\n",
    "                self.weights += self.learning_rate * error * X[i]\n",
    "                self.bias += self.learning_rate * error\n",
    "\n",
    "# Example: Learning the OR logic gate\n",
    "X = np.array([[0,0],[0,1],[1,0],[1,1]])\n",
    "y = np.array([0,0,0,1])\n",
    "\n",
    "perceptron = SingleLayerPerceptron(input_size=2)\n",
    "perceptron.train(X, y, epochs=10)\n",
    "\n",
    "print(\"Trained weights:\", perceptron.weights)\n",
    "print(\"Trained bias:\", perceptron.bias)\n",
    "\n",
    "# Testing\n",
    "for inputs in X:\n",
    "    print(f\"Input: {inputs}, Output: {perceptron.predict(inputs)}\")\n",
    "\n"
   ],
   "id": "8812b83d24a43328",
   "outputs": [
    {
     "name": "stdout",
     "output_type": "stream",
     "text": [
      "Trained weights: [0.2 0.1]\n",
      "Trained bias: -0.20000000000000004\n",
      "Input: [0 0], Output: 0\n",
      "Input: [0 1], Output: 0\n",
      "Input: [1 0], Output: 0\n",
      "Input: [1 1], Output: 1\n"
     ]
    }
   ],
   "execution_count": 3
  },
  {
   "metadata": {
    "ExecuteTime": {
     "end_time": "2025-08-30T01:14:23.708038Z",
     "start_time": "2025-08-30T01:14:23.653822Z"
    }
   },
   "cell_type": "code",
   "source": [
    "#AND Logic and Change Epoch to 50\n",
    "import numpy as np\n",
    "\n",
    "# Step activation function\n",
    "def step_function(x):\n",
    "    return np.where(x >= 0, 1, 0)\n",
    "\n",
    "# Single Layer Perceptron class\n",
    "class SingleLayerPerceptron:\n",
    "    def __init__(self, input_size, learning_rate=0.1):\n",
    "        self.weights = np.zeros(input_size)\n",
    "        self.bias = 0\n",
    "        self.learning_rate = learning_rate\n",
    "\n",
    "    def predict(self, x):\n",
    "        linear_output = np.dot(x, self.weights) + self.bias\n",
    "        return step_function(linear_output)\n",
    "\n",
    "    def train(self, X, y, epochs=50):\n",
    "        for _ in range(epochs):\n",
    "            for i in range(len(X)):\n",
    "                prediction = self.predict(X[i])\n",
    "                error = y[i] - prediction\n",
    "                # Weight update rule\n",
    "                self.weights += self.learning_rate * error * X[i]\n",
    "                self.bias += self.learning_rate * error\n",
    "\n",
    "# Example: Learning the OR logic gate\n",
    "X = np.array([[0,0],[0,1],[1,0],[1,1]])\n",
    "y = np.array([0,0,0,1])\n",
    "\n",
    "perceptron = SingleLayerPerceptron(input_size=2)\n",
    "perceptron.train(X, y, epochs=10)\n",
    "\n",
    "print(\"Trained weights:\", perceptron.weights)\n",
    "print(\"Trained bias:\", perceptron.bias)\n",
    "\n",
    "# Testing\n",
    "for inputs in X:\n",
    "    print(f\"Input: {inputs}, Output: {perceptron.predict(inputs)}\")\n",
    "\n"
   ],
   "id": "a419da82b3d7947f",
   "outputs": [
    {
     "name": "stdout",
     "output_type": "stream",
     "text": [
      "Trained weights: [0.2 0.1]\n",
      "Trained bias: -0.20000000000000004\n",
      "Input: [0 0], Output: 0\n",
      "Input: [0 1], Output: 0\n",
      "Input: [1 0], Output: 0\n",
      "Input: [1 1], Output: 1\n"
     ]
    }
   ],
   "execution_count": 1
  },
  {
   "metadata": {
    "ExecuteTime": {
     "end_time": "2025-08-30T01:27:35.168602Z",
     "start_time": "2025-08-30T01:27:35.160645Z"
    }
   },
   "cell_type": "code",
   "source": [
    "#3-input OR gate\n",
    "import numpy as np\n",
    "\n",
    "# Step activation function\n",
    "def step_function(x):\n",
    "    return np.where(x >= 0, 1, 0)\n",
    "\n",
    "# Single Layer Perceptron class\n",
    "class SingleLayerPerceptron:\n",
    "    def __init__(self, input_size, learning_rate=0.1):\n",
    "        self.weights = np.zeros(input_size)\n",
    "        self.bias = 0\n",
    "        self.learning_rate = learning_rate\n",
    "\n",
    "    def predict(self, x):\n",
    "        linear_output = np.dot(x, self.weights) + self.bias\n",
    "        return step_function(linear_output)\n",
    "\n",
    "    def train(self, X, y, epochs=10):\n",
    "        for _ in range(epochs):\n",
    "            for i in range(len(X)):\n",
    "                prediction = self.predict(X[i])\n",
    "                error = y[i] - prediction\n",
    "                # Weight update rule\n",
    "                self.weights += self.learning_rate * error * X[i]\n",
    "                self.bias += self.learning_rate * error\n",
    "\n",
    "# Example: Learning the OR logic gate\n",
    "X = np.array([\n",
    "    [0,0,0],\n",
    "    [0,0,1],\n",
    "    [0,1,0],\n",
    "    [0,1,1],\n",
    "    [1,0,0],\n",
    "    [1,0,1],\n",
    "    [1,1,0],\n",
    "    [1,1,1]\n",
    "])\n",
    "y = np.array([0,1,1,1,1,1,1,1])\n",
    "\n",
    "perceptron = SingleLayerPerceptron(input_size=3)\n",
    "perceptron.train(X, y, epochs=10)\n",
    "\n",
    "print(\"Trained weights:\", perceptron.weights)\n",
    "print(\"Trained bias:\", perceptron.bias)\n",
    "\n",
    "# Testing\n",
    "for inputs in X:\n",
    "    print(f\"Input: {inputs}, Output: {perceptron.predict(inputs)}\")\n",
    "\n"
   ],
   "id": "cb10904765f94577",
   "outputs": [
    {
     "name": "stdout",
     "output_type": "stream",
     "text": [
      "Trained weights: [0.1 0.1 0.1]\n",
      "Trained bias: -0.1\n",
      "Input: [0 0 0], Output: 0\n",
      "Input: [0 0 1], Output: 1\n",
      "Input: [0 1 0], Output: 1\n",
      "Input: [0 1 1], Output: 1\n",
      "Input: [1 0 0], Output: 1\n",
      "Input: [1 0 1], Output: 1\n",
      "Input: [1 1 0], Output: 1\n",
      "Input: [1 1 1], Output: 1\n"
     ]
    }
   ],
   "execution_count": 2
  },
  {
   "metadata": {
    "ExecuteTime": {
     "end_time": "2025-08-30T01:29:02.450757Z",
     "start_time": "2025-08-30T01:29:02.442388Z"
    }
   },
   "cell_type": "code",
   "source": [
    "import numpy as np\n",
    "\n",
    "# Step activation function\n",
    "def step_function(x):\n",
    "    return np.where(x >= 0, 1, 0)\n",
    "\n",
    "# Single Layer Perceptron class\n",
    "class SingleLayerPerceptron:\n",
    "    def __init__(self, input_size, learning_rate=0.1):\n",
    "        self.weights = np.zeros(input_size)\n",
    "        self.bias = 0\n",
    "        self.learning_rate = learning_rate\n",
    "\n",
    "    def predict(self, x):\n",
    "        linear_output = np.dot(x, self.weights) + self.bias\n",
    "        return step_function(linear_output)\n",
    "\n",
    "    def train(self, X, y, epochs=10):\n",
    "        for _ in range(epochs):\n",
    "            for i in range(len(X)):\n",
    "                prediction = self.predict(X[i])\n",
    "                error = y[i] - prediction\n",
    "                # Weight update rule\n",
    "                self.weights += self.learning_rate * error * X[i]\n",
    "                self.bias += self.learning_rate * error\n",
    "\n",
    "# Example: Learning the 3-input AND logic gate\n",
    "X = np.array([\n",
    "    [0,0,0],\n",
    "    [0,0,1],\n",
    "    [0,1,0],\n",
    "    [0,1,1],\n",
    "    [1,0,0],\n",
    "    [1,0,1],\n",
    "    [1,1,0],\n",
    "    [1,1,1]\n",
    "])\n",
    "y = np.array([0,0,0,0,0,0,0,1])  # AND gate outputs\n",
    "\n",
    "perceptron = SingleLayerPerceptron(input_size=3)\n",
    "perceptron.train(X, y, epochs=20)  # a few more epochs to be safe\n",
    "\n",
    "print(\"Trained weights:\", perceptron.weights)\n",
    "print(\"Trained bias:\", perceptron.bias)\n",
    "\n",
    "# Testing\n",
    "for inputs in X:\n",
    "    print(f\"Input: {inputs}, Output: {perceptron.predict(inputs)}\")\n"
   ],
   "id": "2a824ef3369452d4",
   "outputs": [
    {
     "name": "stdout",
     "output_type": "stream",
     "text": [
      "Trained weights: [0.1 0.1 0.1]\n",
      "Trained bias: -0.20000000000000004\n",
      "Input: [0 0 0], Output: 0\n",
      "Input: [0 0 1], Output: 0\n",
      "Input: [0 1 0], Output: 0\n",
      "Input: [0 1 1], Output: 0\n",
      "Input: [1 0 0], Output: 0\n",
      "Input: [1 0 1], Output: 0\n",
      "Input: [1 1 0], Output: 0\n",
      "Input: [1 1 1], Output: 1\n"
     ]
    }
   ],
   "execution_count": 3
  },
  {
   "metadata": {},
   "cell_type": "code",
   "outputs": [],
   "execution_count": null,
   "source": "",
   "id": "204e057e0f8b0727"
  }
 ],
 "metadata": {
  "kernelspec": {
   "display_name": "Python 3",
   "language": "python",
   "name": "python3"
  },
  "language_info": {
   "codemirror_mode": {
    "name": "ipython",
    "version": 2
   },
   "file_extension": ".py",
   "mimetype": "text/x-python",
   "name": "python",
   "nbconvert_exporter": "python",
   "pygments_lexer": "ipython2",
   "version": "2.7.6"
  }
 },
 "nbformat": 4,
 "nbformat_minor": 5
}
